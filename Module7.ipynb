{
  "metadata": {
    "language_info": {
      "codemirror_mode": {
        "name": "python",
        "version": 3
      },
      "file_extension": ".py",
      "mimetype": "text/x-python",
      "name": "python",
      "nbconvert_exporter": "python",
      "pygments_lexer": "ipython3",
      "version": "3.8"
    },
    "kernelspec": {
      "name": "python",
      "display_name": "Python (Pyodide)",
      "language": "python"
    }
  },
  "nbformat_minor": 4,
  "nbformat": 4,
  "cells": [
    {
      "cell_type": "markdown",
      "source": "# Intro to Jupyter Notebooks\n\nIn this tutorial you will learn about the basics of Jupyter Notebooks and JupyterLite.\n",
      "metadata": {}
    },
    {
      "cell_type": "markdown",
      "source": "\"A notebook integrates code and its output into a single document that combines visualizations, narrative text, mathematical equations, and other rich media. In other words: it’s a single document where you can run code, display the output, and also add explanations, formulas, charts, and make your work more transparent, understandable, repeatable, and shareable.\"\n\nFrom: https://www.dataquest.io/blog/jupyter-notebook-tutorial/ \n\n\n\n\nJupyterLite is a reboot of several attempts at making a full static Jupyter distribution that runs in the browser, without having to start the Python Jupyter Server on the host machine, usually done by running jupyter lab or jupyter notebook in a terminal.\n\nThe goal of the project is to provide a lightweight computing environment accessible in a matter of seconds with a single click, in a web browser, and without having to install anything on the end-user device.\n\nFrom: https://blog.jupyter.org/jupyterlite-jupyter-%EF%B8%8F-webassembly-%EF%B8%8F-python-f6e2e41ab3fa",
      "metadata": {}
    },
    {
      "cell_type": "markdown",
      "source": "Jupyter Notebooks use Markdown cells to format text. Try running (by clicking on the 'Run' button) this cell and see what it does!\n\n# Heading \n\n*Italic*\n\nFor more examples of Markdown formatting, check out the link [here](https://commonmark.org/help/)",
      "metadata": {}
    },
    {
      "cell_type": "markdown",
      "source": "You can also use 'Code' blocks to add Python code to your notebook\n\nClick on the 'Insert cell' button and make sure the cell type is 'Code'\nThe code block below demonstrates how a Code cell can be used to run a simple Python statement",
      "metadata": {}
    },
    {
      "cell_type": "code",
      "source": "print('Hello World')",
      "metadata": {
        "trusted": true
      },
      "execution_count": 1,
      "outputs": [
        {
          "name": "stdout",
          "text": "Hello World\n",
          "output_type": "stream"
        }
      ]
    },
    {
      "cell_type": "code",
      "source": "Click on the Run button to execute it\n(todo: insert  image)\n![](image.png)\n",
      "metadata": {},
      "execution_count": null,
      "outputs": []
    },
    {
      "cell_type": "code",
      "source": "import random\n\nfor i in range(0, 5):\n     print(random.randint(1, 10))\n",
      "metadata": {},
      "execution_count": null,
      "outputs": []
    },
    {
      "cell_type": "code",
      "source": "# importing matplotlib module \nfrom matplotlib import pyplot as plt\n  \n# x-axis values\nx = [5, 2, 9, 4, 7]\n  \n# Y-axis values\ny = [10, 5, 8, 4, 2]\n  \n# Function to plot\nplt.plot(x,y)\n  \n# function to show the plot\nplt.show()\n",
      "metadata": {},
      "execution_count": null,
      "outputs": []
    },
    {
      "cell_type": "code",
      "source": "str1=\"Hello\"\nstr2=\"World\"\n\nstr = str1 + \" \" + str2\n\nprint(str)",
      "metadata": {},
      "execution_count": null,
      "outputs": []
    },
    {
      "cell_type": "code",
      "source": "# arithmetic example",
      "metadata": {},
      "execution_count": null,
      "outputs": []
    },
    {
      "cell_type": "markdown",
      "source": "link to module 8",
      "metadata": {}
    }
  ]
}
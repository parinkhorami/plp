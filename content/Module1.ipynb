{
  "metadata": {
    "language_info": {
      "codemirror_mode": {
        "name": "python",
        "version": 3
      },
      "file_extension": ".py",
      "mimetype": "text/x-python",
      "name": "python",
      "nbconvert_exporter": "python",
      "pygments_lexer": "ipython3",
      "version": "3.8"
    },
    "kernelspec": {
      "name": "python",
      "display_name": "Python (Pyodide)",
      "language": "python"
    }
  },
  "nbformat_minor": 4,
  "nbformat": 4,
  "cells": [
    {
      "cell_type": "code",
      "source": "from IPython.display import Markdown, display\n\ndisplay(Markdown(\"markdown files from notability/m1.md\"))",
      "metadata": {
        "trusted": true
      },
      "execution_count": 3,
      "outputs": [
        {
          "output_type": "display_data",
          "data": {
            "text/plain": "<IPython.core.display.Markdown object>",
            "text/markdown": "# Strings\n\n<aside>\n📌 Key points: data as information, the string data type, variables\n\n</aside>\n\n# Introducing Data Types\n\nThe information stored in a computer is collectively referred to as data. Data can be expressed in many different ways, which we refer to as “types”. Each type looks different and has different rules governing its usage.\n\nAt the most basic level, computers store data in binary form.\n\n![Classic 1s and 0s you might have seen in movies.](images/binary.png)\n\nClassic 1s and 0s you might have seen in movies.\n\nHowever, this level of data is difficult to read and even harder to program in. Instead, programmers use more abstract forms of data represented in English when reading and writing code. These abstract instructions are then converted into binary by our coding software, which the computer can execute.\n\n# New Data Type: `String`\n\n### Intro - how to make a computer speak English\n\n![YaleNews_hopper-grace.UNIVAC.102635875-CC_0.jpg](images/YaleNews_hopper-grace.UNIVAC.102635875-CC_0.jpg)\n\n> “They told me computers could only do arithmetic…So I decided data processors ought to be able to write their programs in English, and the computers would translate them into machine code” - Grace Hopper\n> \n\n### What is a string?\n\nA string is a type of data that looks and reads like plain english. Each string contains a collection of characters that can be made up of letters, numbers, and/or punctuation. \n\n![Can you figure out how many characters are in this string?](images/Untitled.png)\n\nCan you figure out how many characters are in this string?\n\n### Strings in Python\n\nIn Python, and many other programming languages, strings are enclosed by either single or double quotes. The following are both valid strings.\n\n```python\n\"Hello\"\n\n'Goodbye'\n```\n\nStrings can contain letters, numbers, and punctuation.\n\n```python\n\"123 + 8 = 131\"\n\n'Jeff is eight (8) years old!'\n```\n\n**A few basic requirements:**\n\n- Strings must start and end with the same “type” of quote\n    \n    ```python\n    \"Hello\" # correct\n    \n    'Hello\" # incorrect\n    ```\n    \n\n- Double-quoted strings can only span one line of code.\n    \n    ```python\n    \"Hello my name is Alex\" # correct \n    \n    ****\"Hello my\n    name is alex\" # incorrect \n    ```\n    \n\n- Characters inside a string cannot contain the same type of quote as the type of quote enclosing the entire string. If it does, the interpreter won’t be able to see where the string is supposed to start and where it is supposed to end.\n    \n    ```python\n    \"He said \"goodbye\"\"   # incorrect\n    \t\t\t\t\t  # The interpreter sees “He said “ and “” as two independent strings.\n    \"He said 'goodbye'\"   # correct. \n    \t\t\t\t\t  # We use \"\" to enclose the string because the string contains ''\n    ```\n    \n\n**If you try to execute a program with an incorrectly formatted string, it will not run and Python will display an error message.**\n\n```python\nincorrectly_formatted_string = \"hello' # our code\n# running the code...\n# error! we get back the message below:\n  File \"<stdin>\", line 1\n    incorrectly_formatted_string = \"hello'\n                                         ^\nSyntaxError: EOL while scanning string literal\n```\n\n### Escape Character\n\nSo, what happens when we need to use both kinds of quotation marks in our string?\n\nWe can tell the interpreter that a quotation mark is part of a string by writing the backslash “\\” before each quotation mark inside the string.\n\n```python\n\"they said \"hello\" to james\"   # incorrect\n\"they said \\\"hello\\\" to james\" # correct\n```\n\n“\\” is known as the “escape character”. The computer treats it differently than all the other characters in the string. If you want to include an escape character in a string, prefix it with another escape character.\n\n```python\n\"this is an escape character: \\\"  # incorrect\n\"this is an escape character: \\\\\" # correct\n```\n\n## Exercises:\n\n**Converting to Strings** \n\n```python\n# Convert the following data to string format **without deleting anything**\n# The code should run once you have done this successfully\n\n3 + 3\n\nILikeDoughnuts!\n\nI am 6 feet 10 inches tall\n\nShe said \"ouch!\"\n\n3*8=24\n\n\"The red dog was named \"rufus\" \" \n\n\"Good morning\\\"\n\n'beebo went to the market and said 'bo' to the shopkeep who was named \"obeeb\"'\n```\n\n# Feedback Form\n\nPlease take a moment to provide your thoughts on this Module.\n\n[Module 1a (Introduction to Strings) - Feedback form](https://forms.gle/PVF8R1WMNr1hJ8N28)"
          },
          "metadata": {}
        }
      ]
    },
    {
      "cell_type": "markdown",
      "source": "",
      "metadata": {}
    }
  ]
}
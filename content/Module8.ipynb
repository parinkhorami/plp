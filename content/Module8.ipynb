{
  "metadata": {
    "language_info": {
      "codemirror_mode": {
        "name": "python",
        "version": 3
      },
      "file_extension": ".py",
      "mimetype": "text/x-python",
      "name": "python",
      "nbconvert_exporter": "python",
      "pygments_lexer": "ipython3",
      "version": "3.8"
    },
    "kernelspec": {
      "name": "python",
      "display_name": "Python (Pyodide)",
      "language": "python"
    }
  },
  "nbformat_minor": 4,
  "nbformat": 4,
  "cells": [
    {
      "cell_type": "markdown",
      "source": "# Module 8 - APIs",
      "metadata": {}
    },
    {
      "cell_type": "markdown",
      "source": "## What is an API?\n- API stands for Application Programming Interface\n- It is the set of definitions and protocols for building and integrating application software\n- APIs let two applications communicate with each other without having to know how they’re implemented. \n- This can simplify app development, saving time and money!\n\n[Check out this quick video on APIs](https://www.youtube.com/watch?v=OVvTv9Hy91Q)\n\n## Examples of APIs\n1. **Ecommerce**\n    - You might have seen a “pay with PayPal” option at an online checkout. This uses a third-party login. The store doesn’t directly access your PayPal account, but rather sends the purchase order to the PayPal API and PayPal handles the rest of the transaction.\n    \n\n2. **Weather Apps**\n    - Weather forecasts from a Google search or a weather app gather information through the API of any weather service and not from generating data on their own.\n    \n\n3. **Private API examples**\n    - Streaming services such as Netflix and Spotify have to distribute media to nearly any device. Whether the user is on a Windows PC, an iPad, a smart TV, or something else, there’s an expectation that they’ll be able to stream content. Streaming services get this done with an API, ensuring their content is compatible with any device.\n    \n\n4. **Financial Apps**\n    - Your bank makes use of an internal API to manage all aspects of your finances, from checking and savings accounts to credit cards or CDs. Customer service will require a different set of software than the technical aspects of account management, but these functions need to connect. An API keeps these departments tied together.",
      "metadata": {}
    },
    {
      "cell_type": "markdown",
      "source": "# What are SDKs?",
      "metadata": {}
    },
    {
      "cell_type": "markdown",
      "source": "# Project - Google Maps APIs",
      "metadata": {}
    },
    {
      "cell_type": "markdown",
      "source": "- The Google Maps platform contains a set of APIs and SDKs that allows developers to embed Google Maps into mobile apps and web pages, or to retrieve data from Google Maps.\n- With the Google Maps APIs, you can get *directions*, *places*, *roads*, and much more!\n- Some apps that use these APIs include: running apps that help runners track the route of their run, Uber, food delivery apps, and many more! \n\n- Take a look at [GoogleMaps](https://www.google.com/maps) and see what features you notice",
      "metadata": {
        "tags": []
      }
    },
    {
      "cell_type": "markdown",
      "source": "## Getting Set Up",
      "metadata": {
        "tags": []
      }
    },
    {
      "cell_type": "code",
      "source": "",
      "metadata": {},
      "execution_count": null,
      "outputs": []
    }
  ]
}
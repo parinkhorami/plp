{
 "cells": [
  {
   "attachments": {},
   "cell_type": "markdown",
   "id": "9874fa76",
   "metadata": {},
   "source": [
    "# 1a. Strings\n",
    "\n",
    "<aside>\n",
    "📌 Key points: data as information, the string data type, variables\n",
    "\n",
    "</aside>\n",
    "\n",
    "# Introducing Data Types\n",
    "\n",
    "The information stored in a computer is collectively referred to as data. Data can be expressed in many different ways, which we refer to as “types”. Each type looks different and has different rules governing its usage.\n",
    "\n",
    "At the most basic level, computers store data in binary form.\n",
    "\n",
    "![Classic 1s and 0s you might have seen in movies.](images/binary.jpg)\n",
    "\n",
    "Classic 1s and 0s you might have seen in movies.\n",
    "\n",
    "However, this level of data is difficult to read and even harder to program in. Instead, programmers use more abstract forms of data represented in English when reading and writing code. These abstract instructions are then converted into binary by our coding software, which the computer can execute.\n",
    "\n",
    "# New Data Type: `String`\n",
    "\n",
    "### Intro - how to make a computer speak English\n",
    "\n",
    "![YaleNews_hopper-grace.UNIVAC.102635875-CC_0.jpg](images/gracehopper.jpg)\n",
    "\n",
    "> “They told me computers could only do arithmetic…So I decided data processors ought to be able to write their programs in English, and the computers would translate them into machine code” - Grace Hopper\n",
    "\n",
    "### What is a string?\n",
    "\n",
    "A string is a type of data that looks and reads like plain english. Each string contains a collection of characters that can be made up of letters, numbers, and/or punctuation.\n",
    "\n",
    "![Can you figure out how many characters are in this string?](images/Untitled.png)\n",
    "\n",
    "Can you figure out how many characters are in this string?\n",
    "\n",
    "### Strings in Python\n",
    "\n",
    "In Python, and many other programming languages, strings are enclosed by either single or double quotes. The following are both valid strings."
   ]
  },
  {
   "cell_type": "code",
   "execution_count": null,
   "id": "88375bca",
   "metadata": {},
   "outputs": [],
   "source": [
    "\"Hello\"\n",
    "\n",
    "'Goodbye'"
   ]
  },
  {
   "cell_type": "markdown",
   "id": "a2a3a609",
   "metadata": {},
   "source": [
    "Strings can contain letters, numbers, and punctuation."
   ]
  },
  {
   "cell_type": "code",
   "execution_count": null,
   "id": "458f08cc",
   "metadata": {},
   "outputs": [],
   "source": [
    "\"123 + 8 = 131\"\n",
    "\n",
    "'Jeff is eight (8) years old!'"
   ]
  },
  {
   "cell_type": "markdown",
   "id": "5c0d4f1d",
   "metadata": {},
   "source": [
    "**A few basic requirements:**\n",
    "\n",
    "- Strings must start and end with the same “type” of quote\n",
    "\n",
    "  ```python\n",
    "  \"Hello\" # correct\n",
    "\n",
    "  'Hello\" # incorrect\n",
    "  ```\n",
    "\n",
    "- Double-quoted strings can only span one line of code.\n",
    "\n",
    "  ```python\n",
    "  \"Hello my name is Alex\" # correct\n",
    "\n",
    "  ****\"Hello my\n",
    "  name is alex\" # incorrect\n",
    "  ```\n",
    "\n",
    "- Characters inside a string cannot contain the same type of quote as the type of quote enclosing the entire string. If it does, the interpreter won’t be able to see where the string is supposed to start and where it is supposed to end.\n",
    "  ```python\n",
    "  \"He said \"goodbye\"\"   # incorrect\n",
    "  \t\t\t\t\t  # The interpreter sees “He said “ and “” as two independent strings.\n",
    "  \"He said 'goodbye'\"   # correct.\n",
    "  \t\t\t\t\t  # We use \"\" to enclose the string because the string contains ''\n",
    "  ```\n",
    "\n",
    "**If you try to execute a program with an incorrectly formatted string, it will not run and Python will display an error message.**"
   ]
  },
  {
   "cell_type": "code",
   "execution_count": null,
   "id": "86d6165e",
   "metadata": {},
   "outputs": [],
   "source": [
    "incorrectly_formatted_string = \"hello' # our code\n",
    "# running the code...\n",
    "# error! we get back the message below:\n",
    "  File \"<stdin>\", line 1\n",
    "    incorrectly_formatted_string = \"hello'\n",
    "                                         ^\n",
    "SyntaxError: EOL while scanning string literal"
   ]
  },
  {
   "cell_type": "markdown",
   "id": "f4e9556f",
   "metadata": {},
   "source": [
    "### Escape Character\n",
    "\n",
    "So, what happens when we need to use both kinds of quotation marks in our string?\n",
    "\n",
    "We can tell the interpreter that a quotation mark is part of a string by writing the backslash “\\” before each quotation mark inside the string."
   ]
  },
  {
   "cell_type": "code",
   "execution_count": null,
   "id": "48d3ce1a",
   "metadata": {},
   "outputs": [],
   "source": [
    "\"they said \"hello\" to james\"   # incorrect\n",
    "\"they said \\\"hello\\\" to james\" # correct"
   ]
  },
  {
   "cell_type": "markdown",
   "id": "b3b7f26a",
   "metadata": {},
   "source": [
    "“\\” is known as the “escape character”. The computer treats it differently than all the other characters in the string. If you want to include an escape character in a string, prefix it with another escape character."
   ]
  },
  {
   "cell_type": "code",
   "execution_count": null,
   "id": "c02160e0",
   "metadata": {},
   "outputs": [],
   "source": [
    "\"this is an escape character: \\\"  # incorrect\n",
    "\"this is an escape character: \\\\\" # correct"
   ]
  },
  {
   "cell_type": "markdown",
   "id": "3dc6cdca",
   "metadata": {},
   "source": [
    "## Exercises:\n",
    "\n",
    "**Converting to Strings**"
   ]
  },
  {
   "cell_type": "code",
   "execution_count": null,
   "id": "4201c29b",
   "metadata": {},
   "outputs": [],
   "source": [
    "# Convert the following data to string format **without deleting anything**\n",
    "# The code should run once you have done this successfully\n",
    "\n",
    "3 + 3\n",
    "\n",
    "ILikeDoughnuts!\n",
    "\n",
    "I am 6 feet 10 inches tall\n",
    "\n",
    "She said \"ouch!\"\n",
    "\n",
    "3*8=24\n",
    "\n",
    "\"The red dog was named \"rufus\" \"\n",
    "\n",
    "\"Good morning\\\"\n",
    "\n",
    "'beebo went to the market and said 'bo' to the shopkeep who was named \"obeeb\"'"
   ]
  },
  {
   "cell_type": "markdown",
   "id": "92d3f046",
   "metadata": {},
   "source": [
    "# Feedback Form\n",
    "\n",
    "Please take a moment to provide your thoughts on this Module.\n",
    "\n",
    "[Module 1a (Introduction to Strings) - Feedback form](https://forms.gle/PVF8R1WMNr1hJ8N28)"
   ]
  }
 ],
 "metadata": {
  "language_info": {
   "name": "python"
  }
 },
 "nbformat": 4,
 "nbformat_minor": 5
}
